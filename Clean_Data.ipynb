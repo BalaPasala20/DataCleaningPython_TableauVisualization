{
 "cells": [
  {
   "cell_type": "code",
   "execution_count": 1,
   "metadata": {},
   "outputs": [],
   "source": [
    "import pandas as pd\n",
    "import numpy as np\n",
    "from collections import Counter\n",
    "import csv"
   ]
  },
  {
   "cell_type": "code",
   "execution_count": 2,
   "metadata": {},
   "outputs": [],
   "source": [
    "df = pd.read_csv(\"Assignment1Data_Sample.csv\")"
   ]
  },
  {
   "cell_type": "code",
   "execution_count": 3,
   "metadata": {},
   "outputs": [
    {
     "data": {
      "text/plain": [
       "(204, 44)"
      ]
     },
     "execution_count": 3,
     "metadata": {},
     "output_type": "execute_result"
    }
   ],
   "source": [
    "df.shape"
   ]
  },
  {
   "cell_type": "code",
   "execution_count": 4,
   "metadata": {},
   "outputs": [
    {
     "data": {
      "text/plain": [
       "Index(['Object Number', 'Is Highlight', 'Is Public Domain', 'Object ID',\n",
       "       'Department', 'Object Name', 'Title', 'Culture', 'Period', 'Dynasty',\n",
       "       'Reign', 'Portfolio', 'Artist Role', 'Artist Prefix',\n",
       "       'Artist Display Name', 'Artist Display Bio', 'Artist Suffix',\n",
       "       'Artist Alpha Sort', 'Artist Nationality', 'Artist Begin Date',\n",
       "       'Artist End Date', 'Object Date', 'Object Begin Date',\n",
       "       'Object End Date', 'Medium', 'Dimensions', 'Credit Line',\n",
       "       'Geography Type', 'City', 'State', 'County', 'Country', 'Region',\n",
       "       'Subregion', 'Locale', 'Locus', 'Excavation', 'River', 'Classification',\n",
       "       'Rights and Reproduction', 'Link Resource', 'Metadata Date',\n",
       "       'Repository', 'Tags'],\n",
       "      dtype='object')"
      ]
     },
     "execution_count": 4,
     "metadata": {},
     "output_type": "execute_result"
    }
   ],
   "source": [
    "df.columns"
   ]
  },
  {
   "cell_type": "markdown",
   "metadata": {},
   "source": [
    "Creating a data frame with columns required for the assignment. The required columns are Object Number, Is Highlight, Is Public Domain, Object ID, Object Name, Medium, Department, Culture, Object Begin Date, Object End Data, and Artist Nationality"
   ]
  },
  {
   "cell_type": "code",
   "execution_count": 5,
   "metadata": {},
   "outputs": [],
   "source": [
    "df_t = df[['Object Number','Is Highlight','Is Public Domain','Object ID','Object Name','Medium','Department','Culture','Object Begin Date', 'Object End Date','Artist Nationality']]"
   ]
  },
  {
   "cell_type": "code",
   "execution_count": 6,
   "metadata": {},
   "outputs": [
    {
     "data": {
      "text/plain": [
       "Object Number           0\n",
       "Is Highlight            0\n",
       "Is Public Domain        0\n",
       "Object ID               0\n",
       "Object Name             1\n",
       "Medium                  2\n",
       "Department              1\n",
       "Culture               120\n",
       "Object Begin Date       0\n",
       "Object End Date         2\n",
       "Artist Nationality    117\n",
       "dtype: int64"
      ]
     },
     "execution_count": 6,
     "metadata": {},
     "output_type": "execute_result"
    }
   ],
   "source": [
    "df_t.isna().sum()"
   ]
  },
  {
   "cell_type": "markdown",
   "metadata": {},
   "source": [
    "Find the missing values percentage for each colum"
   ]
  },
  {
   "cell_type": "code",
   "execution_count": 7,
   "metadata": {},
   "outputs": [
    {
     "name": "stdout",
     "output_type": "stream",
     "text": [
      "Object Number          0.000000\n",
      "Is Highlight           0.000000\n",
      "Is Public Domain       0.000000\n",
      "Object ID              0.000000\n",
      "Object Name            0.490196\n",
      "Medium                 0.980392\n",
      "Department             0.490196\n",
      "Culture               58.823529\n",
      "Object Begin Date      0.000000\n",
      "Object End Date        0.980392\n",
      "Artist Nationality    57.352941\n",
      "dtype: float64\n"
     ]
    }
   ],
   "source": [
    "df_missing_percent = (df_t.isna().sum()/len(df_t))*100\n",
    "print(df_missing_percent)"
   ]
  },
  {
   "cell_type": "markdown",
   "metadata": {},
   "source": [
    "Remove null values for Medium, Department, and Object End Date. These columns are useful for solving the assignment questions."
   ]
  },
  {
   "cell_type": "code",
   "execution_count": 8,
   "metadata": {},
   "outputs": [
    {
     "name": "stdout",
     "output_type": "stream",
     "text": [
      "Object Number          0.000000\n",
      "Is Highlight           0.000000\n",
      "Is Public Domain       0.000000\n",
      "Object ID              0.000000\n",
      "Object Name            0.502513\n",
      "Medium                 0.000000\n",
      "Department             0.000000\n",
      "Culture               58.793970\n",
      "Object Begin Date      0.000000\n",
      "Object End Date        0.000000\n",
      "Artist Nationality    57.286432\n",
      "dtype: float64\n"
     ]
    }
   ],
   "source": [
    "new_df = df_t.drop(df_t[(df_t['Medium'].isna())|(df_t['Department'].isna())|(df_t['Object End Date'].isna())].index)\n",
    "new_df_missing_percent = (new_df.isna().sum()/len(new_df))*100\n",
    "print(new_df_missing_percent)"
   ]
  },
  {
   "cell_type": "code",
   "execution_count": 9,
   "metadata": {},
   "outputs": [
    {
     "name": "stdout",
     "output_type": "stream",
     "text": [
      "The data types of fields are :\n",
      "Object Number          object\n",
      "Is Highlight             bool\n",
      "Is Public Domain         bool\n",
      "Object ID               int64\n",
      "Object Name            object\n",
      "Medium                 object\n",
      "Department             object\n",
      "Culture                object\n",
      "Object Begin Date       int64\n",
      "Object End Date       float64\n",
      "Artist Nationality     object\n",
      "dtype: object\n"
     ]
    }
   ],
   "source": [
    "print(\"The data types of fields are :\")\n",
    "print(new_df.dtypes)"
   ]
  },
  {
   "cell_type": "markdown",
   "metadata": {},
   "source": [
    "Convert Object End Date data type from float to int as the data type of Object Begin Date is int. These two columns are useful while finding the age of object."
   ]
  },
  {
   "cell_type": "code",
   "execution_count": 10,
   "metadata": {},
   "outputs": [
    {
     "name": "stdout",
     "output_type": "stream",
     "text": [
      "Object Number         object\n",
      "Is Highlight            bool\n",
      "Is Public Domain        bool\n",
      "Object ID              int64\n",
      "Object Name           object\n",
      "Medium                object\n",
      "Department            object\n",
      "Culture               object\n",
      "Object Begin Date      int64\n",
      "Object End Date        int32\n",
      "Artist Nationality    object\n",
      "dtype: object\n"
     ]
    }
   ],
   "source": [
    "new_df['Object End Date'] = new_df['Object End Date'].astype(int)\n",
    "print(new_df.dtypes)"
   ]
  },
  {
   "cell_type": "markdown",
   "metadata": {},
   "source": [
    "Logic to find the frequency for each type of medium"
   ]
  },
  {
   "cell_type": "code",
   "execution_count": 11,
   "metadata": {},
   "outputs": [],
   "source": [
    "mediums =new_df.Medium.unique() #Considering the unique values of Medium to prevent the iterations over null values\n",
    "s='' # The string will have all the rows of data\n",
    "listall=[] # each type of potential medium will be saved as a element of list\n",
    "for elem in mediums:\n",
    "    elem = elem.upper().strip()\n",
    "    temp_list= elem.split(',')    \n",
    "    #print(temp_list)\n",
    "    listall = listall+temp_list\n",
    "newString = [x.strip(' ') for x in listall] #remove leading and trailing spaces of each element in the list\n",
    "sortedNewString = sorted(newString)\n",
    "counts = Counter(sortedNewString) # counts is a collection with frequencies of elements in the list"
   ]
  },
  {
   "cell_type": "markdown",
   "metadata": {},
   "source": [
    "Convert counters to a data frame. Because writing Data frame to a csv file is very easy through pandas."
   ]
  },
  {
   "cell_type": "code",
   "execution_count": 12,
   "metadata": {},
   "outputs": [
    {
     "data": {
      "text/html": [
       "<div>\n",
       "<style scoped>\n",
       "    .dataframe tbody tr th:only-of-type {\n",
       "        vertical-align: middle;\n",
       "    }\n",
       "\n",
       "    .dataframe tbody tr th {\n",
       "        vertical-align: top;\n",
       "    }\n",
       "\n",
       "    .dataframe thead th {\n",
       "        text-align: right;\n",
       "    }\n",
       "</style>\n",
       "<table border=\"1\" class=\"dataframe\">\n",
       "  <thead>\n",
       "    <tr style=\"text-align: right;\">\n",
       "      <th></th>\n",
       "      <th>Medium</th>\n",
       "      <th>count</th>\n",
       "    </tr>\n",
       "  </thead>\n",
       "  <tbody>\n",
       "    <tr>\n",
       "      <th>0</th>\n",
       "      <td>A) LEATHER; B) LEATHER</td>\n",
       "      <td>1</td>\n",
       "    </tr>\n",
       "    <tr>\n",
       "      <th>1</th>\n",
       "      <td>ALBUM LEAF; INK AND COLOR ON SILK</td>\n",
       "      <td>1</td>\n",
       "    </tr>\n",
       "    <tr>\n",
       "      <th>2</th>\n",
       "      <td>ALBUMEN PHOTOGRAPH</td>\n",
       "      <td>1</td>\n",
       "    </tr>\n",
       "    <tr>\n",
       "      <th>3</th>\n",
       "      <td>ALBUMEN PRINT (GLOSSY FINISH)</td>\n",
       "      <td>1</td>\n",
       "    </tr>\n",
       "    <tr>\n",
       "      <th>4</th>\n",
       "      <td>ALBUMEN SILVER PRINT FROM GLASS NEGATIVE</td>\n",
       "      <td>1</td>\n",
       "    </tr>\n",
       "    <tr>\n",
       "      <th>...</th>\n",
       "      <td>...</td>\n",
       "      <td>...</td>\n",
       "    </tr>\n",
       "    <tr>\n",
       "      <th>158</th>\n",
       "      <td>WOOD</td>\n",
       "      <td>3</td>\n",
       "    </tr>\n",
       "    <tr>\n",
       "      <th>159</th>\n",
       "      <td>WOOD ENGRAVING</td>\n",
       "      <td>1</td>\n",
       "    </tr>\n",
       "    <tr>\n",
       "      <th>160</th>\n",
       "      <td>WOODCUT</td>\n",
       "      <td>1</td>\n",
       "    </tr>\n",
       "    <tr>\n",
       "      <th>161</th>\n",
       "      <td>WOOL</td>\n",
       "      <td>5</td>\n",
       "    </tr>\n",
       "    <tr>\n",
       "      <th>162</th>\n",
       "      <td>[NO MEDIUM AVAILABLE]</td>\n",
       "      <td>1</td>\n",
       "    </tr>\n",
       "  </tbody>\n",
       "</table>\n",
       "<p>163 rows × 2 columns</p>\n",
       "</div>"
      ],
      "text/plain": [
       "                                       Medium  count\n",
       "0                      A) LEATHER; B) LEATHER      1\n",
       "1           ALBUM LEAF; INK AND COLOR ON SILK      1\n",
       "2                          ALBUMEN PHOTOGRAPH      1\n",
       "3               ALBUMEN PRINT (GLOSSY FINISH)      1\n",
       "4    ALBUMEN SILVER PRINT FROM GLASS NEGATIVE      1\n",
       "..                                        ...    ...\n",
       "158                                      WOOD      3\n",
       "159                            WOOD ENGRAVING      1\n",
       "160                                   WOODCUT      1\n",
       "161                                      WOOL      5\n",
       "162                     [NO MEDIUM AVAILABLE]      1\n",
       "\n",
       "[163 rows x 2 columns]"
      ]
     },
     "execution_count": 12,
     "metadata": {},
     "output_type": "execute_result"
    }
   ],
   "source": [
    "df_final = pd.DataFrame.from_dict(counts, orient='index').reset_index()\n",
    "df_final.rename(columns = {'index':'Medium', 0:'count'})"
   ]
  },
  {
   "cell_type": "markdown",
   "metadata": {},
   "source": [
    "Writing the modified Medium dataframe with frequency  to a csv file."
   ]
  },
  {
   "cell_type": "code",
   "execution_count": 13,
   "metadata": {},
   "outputs": [],
   "source": [
    "df_final.to_csv(\"medium1.csv\")"
   ]
  },
  {
   "cell_type": "markdown",
   "metadata": {},
   "source": [
    "Clean the Nationality column. The values are pipe delimited with repetition. So, I considered first value that appear before the pipe delimiter as the nationality of an artist"
   ]
  },
  {
   "cell_type": "code",
   "execution_count": 14,
   "metadata": {},
   "outputs": [],
   "source": [
    "art = new_df['Artist Nationality']"
   ]
  },
  {
   "cell_type": "markdown",
   "metadata": {},
   "source": [
    "Read first word that appear before the pipe delimiter in the nationality and add the word to a list. Later, the list will be joined to the data frame."
   ]
  },
  {
   "cell_type": "code",
   "execution_count": 15,
   "metadata": {},
   "outputs": [
    {
     "name": "stdout",
     "output_type": "stream",
     "text": [
      "[nan, nan, nan, nan, nan, nan, nan, nan, nan, nan, nan, nan, 'Chinese', nan, 'Japanese', 'Japanese', 'Japanese', nan, nan, nan, 'Chinese', nan, 'Japanese|Japanese', 'British', 'American|American', 'Italian', nan, 'French, born Italy', nan, 'French|French', 'French|French', 'American', nan, nan, 'British|British', nan, 'American', nan, nan, nan, 'American', 'American', nan, nan, nan, 'Italian', nan, nan, nan, nan, nan, nan, nan, nan, nan, nan, nan, nan, nan, nan, nan, nan, 'American', 'American', nan, 'Belgian', 'American', 'American', 'American', 'French', nan, nan, nan, nan, nan, nan, nan, nan, nan, nan, 'American', 'Italian', 'Italian', 'Italian', 'French|French|French|French|French|French', 'American|American|American', 'British', 'American', 'Japanese', 'French|French', 'British|British|British|British|British|British|British', 'French', 'Italian|Bohemian', 'Italian', 'Italian', 'Italian', 'American', 'Dutch|Dutch|Dutch', 'French|French|French|French|French', 'American', 'British', 'Dutch', 'American', 'Netherlandish|German', 'American', 'American', 'Italian|Italian', nan, 'Italian|Italian', 'French|British', 'American|American', nan, 'French|Italian', 'German', 'French|French', 'American', 'French', 'American', 'French', nan, nan, nan, nan, nan, nan, 'Italian', nan, nan, nan, nan, nan, 'American, born Russia', 'Finnish|Finnish', 'British, Scottish', 'Italian', 'Italian', 'Mexican', nan, nan, nan, nan, nan, nan, nan, nan, nan, nan, nan, 'American', 'Italian|Italian|Italian|Italian|Italian', nan, 'Italian|Italian|German', 'American', 'Canadian', 'American', 'American', 'Scottish|British|British, Scottish|British|British', 'Austrian', 'American, born Russia', 'American', 'American', nan, 'Mexican', 'Italian|British', 'German|American|American|American', 'American', nan, nan, nan, nan, nan, nan, nan, nan, nan, nan, nan, nan, nan, nan, nan, nan, nan, nan, nan, nan, nan, nan, nan, nan, nan, nan, nan, nan, nan, nan, nan, nan, nan]\n",
      "=================Without pipe delimiters===========\n",
      "['nan', 'nan', 'nan', 'nan', 'nan', 'nan', 'nan', 'nan', 'nan', 'nan', 'nan', 'nan', 'Chinese', 'nan', 'Japanese', 'Japanese', 'Japanese', 'nan', 'nan', 'nan', 'Chinese', 'nan', 'Japanese', 'British', 'American', 'Italian', 'nan', 'French, born Italy', 'nan', 'French', 'French', 'American', 'nan', 'nan', 'British', 'nan', 'American', 'nan', 'nan', 'nan', 'American', 'American', 'nan', 'nan', 'nan', 'Italian', 'nan', 'nan', 'nan', 'nan', 'nan', 'nan', 'nan', 'nan', 'nan', 'nan', 'nan', 'nan', 'nan', 'nan', 'nan', 'nan', 'American', 'American', 'nan', 'Belgian', 'American', 'American', 'American', 'French', 'nan', 'nan', 'nan', 'nan', 'nan', 'nan', 'nan', 'nan', 'nan', 'nan', 'American', 'Italian', 'Italian', 'Italian', 'French', 'American', 'British', 'American', 'Japanese', 'French', 'British', 'French', 'Italian', 'Italian', 'Italian', 'Italian', 'American', 'Dutch', 'French', 'American', 'British', 'Dutch', 'American', 'Netherlandish', 'American', 'American', 'Italian', 'nan', 'Italian', 'French', 'American', 'nan', 'French', 'German', 'French', 'American', 'French', 'American', 'French', 'nan', 'nan', 'nan', 'nan', 'nan', 'nan', 'Italian', 'nan', 'nan', 'nan', 'nan', 'nan', 'American, born Russia', 'Finnish', 'British, Scottish', 'Italian', 'Italian', 'Mexican', 'nan', 'nan', 'nan', 'nan', 'nan', 'nan', 'nan', 'nan', 'nan', 'nan', 'nan', 'American', 'Italian', 'nan', 'Italian', 'American', 'Canadian', 'American', 'American', 'Scottish', 'Austrian', 'American, born Russia', 'American', 'American', 'nan', 'Mexican', 'Italian', 'German', 'American', 'nan', 'nan', 'nan', 'nan', 'nan', 'nan', 'nan', 'nan', 'nan', 'nan', 'nan', 'nan', 'nan', 'nan', 'nan', 'nan', 'nan', 'nan', 'nan', 'nan', 'nan', 'nan', 'nan', 'nan', 'nan', 'nan', 'nan', 'nan', 'nan', 'nan', 'nan', 'nan', 'nan']\n"
     ]
    }
   ],
   "source": [
    "te1 = art.copy()\n",
    "teList=[]\n",
    "s1=te1.tolist()\n",
    "print(s1)\n",
    "for nationality in s1:\n",
    "    if type(nationality) is not str:\n",
    "        nationality = str(nationality)\n",
    "    #print(type(nationality))\n",
    "    if nationality != ''or nationality !=np.nan:\n",
    "        temp=''\n",
    "        for value in nationality:\n",
    "            if value =='|':\n",
    "                break\n",
    "            else:\n",
    "                temp+=value;\n",
    "    teList.append(temp)\n",
    "print(\"=================Without pipe delimiters===========\")\n",
    "print(teList)\n"
   ]
  },
  {
   "cell_type": "code",
   "execution_count": 16,
   "metadata": {},
   "outputs": [],
   "source": [
    "new_df['Artist_Nationality_new'] = pd.Series(teList)"
   ]
  },
  {
   "cell_type": "markdown",
   "metadata": {},
   "source": [
    "Replace 'nan's in the Artist_nationality_new with blanks"
   ]
  },
  {
   "cell_type": "code",
   "execution_count": 17,
   "metadata": {},
   "outputs": [],
   "source": [
    "new_df.Artist_Nationality_new.replace(to_replace='nan', value='',inplace=True)"
   ]
  },
  {
   "cell_type": "code",
   "execution_count": 18,
   "metadata": {},
   "outputs": [
    {
     "data": {
      "text/plain": [
       "array(['', 'Chinese', 'Japanese', 'British', 'American', 'Italian',\n",
       "       'French, born Italy', 'French', 'Belgian', 'Dutch',\n",
       "       'Netherlandish', 'German', 'American, born Russia', 'Finnish',\n",
       "       'British, Scottish', 'Mexican', 'Canadian', 'Scottish', 'Austrian',\n",
       "       nan], dtype=object)"
      ]
     },
     "execution_count": 18,
     "metadata": {},
     "output_type": "execute_result"
    }
   ],
   "source": [
    "new_df.Artist_Nationality_new.unique()"
   ]
  },
  {
   "cell_type": "markdown",
   "metadata": {},
   "source": [
    "Save the cleaned data to a .csv file"
   ]
  },
  {
   "cell_type": "code",
   "execution_count": 19,
   "metadata": {},
   "outputs": [],
   "source": [
    "new_df.to_csv(\"Assignment1_Clean_Data.csv\")"
   ]
  }
 ],
 "metadata": {
  "kernelspec": {
   "display_name": "Python 3",
   "language": "python",
   "name": "python3"
  },
  "language_info": {
   "codemirror_mode": {
    "name": "ipython",
    "version": 3
   },
   "file_extension": ".py",
   "mimetype": "text/x-python",
   "name": "python",
   "nbconvert_exporter": "python",
   "pygments_lexer": "ipython3",
   "version": "3.7.3"
  }
 },
 "nbformat": 4,
 "nbformat_minor": 4
}
